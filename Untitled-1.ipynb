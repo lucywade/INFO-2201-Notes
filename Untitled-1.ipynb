{
 "cells": [
  {
   "cell_type": "code",
   "execution_count": 2,
   "id": "4f5199c7",
   "metadata": {},
   "outputs": [],
   "source": [
    "hobbies_fav = ('golf', 'lagree', 'art', 'music', 'cooking')"
   ]
  },
  {
   "cell_type": "code",
   "execution_count": 3,
   "id": "896eaa2b",
   "metadata": {},
   "outputs": [
    {
     "name": "stdout",
     "output_type": "stream",
     "text": [
      "cooking\n"
     ]
    }
   ],
   "source": [
    "print(hobbies_fav[-1])"
   ]
  },
  {
   "cell_type": "code",
   "execution_count": 6,
   "id": "d64240d6",
   "metadata": {},
   "outputs": [
    {
     "name": "stdout",
     "output_type": "stream",
     "text": [
      "My least favorite hobbie is cooking\n"
     ]
    }
   ],
   "source": [
    "print(\"My least favorite hobbie is\",hobbies_fav[-1])"
   ]
  },
  {
   "cell_type": "code",
   "execution_count": 7,
   "id": "d55469c0",
   "metadata": {},
   "outputs": [],
   "source": [
    "myList = ['1', '2', '3', '4', '5']"
   ]
  },
  {
   "cell_type": "code",
   "execution_count": 10,
   "id": "e92e94b1",
   "metadata": {},
   "outputs": [
    {
     "name": "stdout",
     "output_type": "stream",
     "text": [
      "['1', '2', '3', '4', '5', '6', '6']\n"
     ]
    }
   ],
   "source": [
    "myList.append('6')\n",
    "print(myList)"
   ]
  },
  {
   "cell_type": "code",
   "execution_count": 13,
   "id": "a26754b7",
   "metadata": {},
   "outputs": [],
   "source": [
    "strLyst = ['dog', 'cat', 'bird']"
   ]
  },
  {
   "cell_type": "code",
   "execution_count": 14,
   "id": "a99d4831",
   "metadata": {},
   "outputs": [
    {
     "name": "stdout",
     "output_type": "stream",
     "text": [
      "['1', '2', '3', '4', '5', '6', '6', 'dog', 'cat', 'bird']\n"
     ]
    }
   ],
   "source": [
    "myList.extend(strLyst)\n",
    "print(myList)"
   ]
  },
  {
   "cell_type": "code",
   "execution_count": null,
   "id": "eff20599",
   "metadata": {},
   "outputs": [],
   "source": [
    "unsortedLyst = ['Lucy', 'Laney', 'Evelyn', 'Ava', 'Abby', 'Sophi']"
   ]
  },
  {
   "cell_type": "code",
   "execution_count": 18,
   "id": "24ff7dcc",
   "metadata": {},
   "outputs": [
    {
     "name": "stdout",
     "output_type": "stream",
     "text": [
      "['Abby', 'Ava', 'Evelyn', 'Laney', 'Lucy', 'Sophi']\n"
     ]
    }
   ],
   "source": [
    "unsortedLyst.sort()\n",
    "\n",
    "sortedLyst = unsortedLyst\n",
    "\n",
    "print(sortedLyst)"
   ]
  },
  {
   "cell_type": "code",
   "execution_count": 19,
   "id": "bee2310c",
   "metadata": {},
   "outputs": [
    {
     "data": {
      "text/plain": [
       "'Sophi'"
      ]
     },
     "execution_count": 19,
     "metadata": {},
     "output_type": "execute_result"
    }
   ],
   "source": [
    "sortedLyst.pop()"
   ]
  },
  {
   "cell_type": "code",
   "execution_count": 20,
   "id": "ab9ae05a",
   "metadata": {},
   "outputs": [
    {
     "name": "stdout",
     "output_type": "stream",
     "text": [
      "['Abby', 'Ava', 'Evelyn', 'Laney', 'Lucy']\n"
     ]
    }
   ],
   "source": [
    "print(sortedLyst)"
   ]
  },
  {
   "cell_type": "code",
   "execution_count": 21,
   "id": "f58390fd",
   "metadata": {},
   "outputs": [
    {
     "data": {
      "text/plain": [
       "'Evelyn'"
      ]
     },
     "execution_count": 21,
     "metadata": {},
     "output_type": "execute_result"
    }
   ],
   "source": [
    "sortedLyst.pop(2)"
   ]
  },
  {
   "cell_type": "code",
   "execution_count": 22,
   "id": "9293e210",
   "metadata": {},
   "outputs": [
    {
     "name": "stdout",
     "output_type": "stream",
     "text": [
      "['Abby', 'Ava', 'Laney', 'Lucy']\n"
     ]
    }
   ],
   "source": [
    "print(sortedLyst)"
   ]
  },
  {
   "cell_type": "code",
   "execution_count": 24,
   "id": "ebd34e12",
   "metadata": {},
   "outputs": [
    {
     "name": "stdout",
     "output_type": "stream",
     "text": [
      "['Abby', 'Laney', 'Lucy']\n"
     ]
    }
   ],
   "source": [
    "print(sortedLyst)"
   ]
  },
  {
   "cell_type": "code",
   "execution_count": 27,
   "id": "8afa142b",
   "metadata": {},
   "outputs": [
    {
     "data": {
      "text/plain": [
       "'Abby'"
      ]
     },
     "execution_count": 27,
     "metadata": {},
     "output_type": "execute_result"
    }
   ],
   "source": [
    "sortedLyst.pop(0)"
   ]
  },
  {
   "cell_type": "code",
   "execution_count": 28,
   "id": "9af1f457",
   "metadata": {},
   "outputs": [
    {
     "name": "stdout",
     "output_type": "stream",
     "text": [
      "[]\n"
     ]
    }
   ],
   "source": [
    "print(sortedLyst)"
   ]
  },
  {
   "cell_type": "code",
   "execution_count": 29,
   "id": "0ac9eda6",
   "metadata": {},
   "outputs": [],
   "source": [
    "sortedLyst = unsortedLyst\n"
   ]
  },
  {
   "cell_type": "code",
   "execution_count": 30,
   "id": "9439c715",
   "metadata": {},
   "outputs": [],
   "source": [
    "unsortedLyst = ['Lucy', 'Laney', 'Evelyn', 'Ava', 'Abby', 'Sophi']"
   ]
  },
  {
   "cell_type": "code",
   "execution_count": 31,
   "id": "c7c23b1e",
   "metadata": {},
   "outputs": [],
   "source": [
    "sortedLyst = unsortedLyst"
   ]
  },
  {
   "cell_type": "code",
   "execution_count": 32,
   "id": "63f95e65",
   "metadata": {},
   "outputs": [],
   "source": [
    "sortedLyst.remove('Lucy')"
   ]
  },
  {
   "cell_type": "code",
   "execution_count": 33,
   "id": "92aca456",
   "metadata": {},
   "outputs": [
    {
     "data": {
      "text/plain": [
       "['Laney', 'Evelyn', 'Ava', 'Abby', 'Sophi']"
      ]
     },
     "execution_count": 33,
     "metadata": {},
     "output_type": "execute_result"
    }
   ],
   "source": [
    "sortedLyst"
   ]
  },
  {
   "cell_type": "code",
   "execution_count": null,
   "id": "283f2c7c",
   "metadata": {},
   "outputs": [],
   "source": []
  }
 ],
 "metadata": {
  "kernelspec": {
   "display_name": "base",
   "language": "python",
   "name": "python3"
  },
  "language_info": {
   "codemirror_mode": {
    "name": "ipython",
    "version": 3
   },
   "file_extension": ".py",
   "mimetype": "text/x-python",
   "name": "python",
   "nbconvert_exporter": "python",
   "pygments_lexer": "ipython3",
   "version": "3.12.4"
  }
 },
 "nbformat": 4,
 "nbformat_minor": 5
}
